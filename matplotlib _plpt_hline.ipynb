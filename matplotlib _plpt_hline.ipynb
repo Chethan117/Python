import matplotlib.pyplot as plt

# Sample data
categories = ['A', 'B', 'C', 'D']
values = [10, 20, 15, 5]

# Create a figure with a specified size
fig, ax = plt.subplots(figsize=(10, 5))

# Create the bar chart
ax.bar(categories, values)

# Customize horizontal line
ax.hline(y=1, color='gray', linestyle='--', linewidth=2)

# Customize ticks
ax.tick_params(axis='x', labelsize=12)  # Increase size of xticks
ax.tick_params(axis='y', labelsize=12)  # Increase size of yticks

# Remove the top and right spines
ax.spines['top'].set_visible(False)
ax.spines['right'].set_visible(False)

# Put the legend below the x-axis and outside of the graph, centered
ax.legend(['Value'], loc='upper center', bbox_to_anchor=(0.5, -0.15), frameon=False, ncol=1)

# Adjust layout to make room for the legend
plt.tight_layout()

# Display the plot
plt.show()
