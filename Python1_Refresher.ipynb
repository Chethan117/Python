{
 "cells": [
  {
   "cell_type": "code",
   "execution_count": null,
   "metadata": {
    "colab": {
     "base_uri": "https://localhost:8080/"
    },
    "executionInfo": {
     "elapsed": 8,
     "status": "ok",
     "timestamp": 1650392040434,
     "user": {
      "displayName": "Chethan KB",
      "userId": "00183883714094269114"
     },
     "user_tz": -330
    },
    "id": "voxATUZ0BNXX",
    "outputId": "5b719ecf-1029-417d-87ee-7b4f26aa91d9"
   },
   "outputs": [
    {
     "data": {
      "text/plain": [
       "9"
      ]
     },
     "execution_count": 1,
     "metadata": {},
     "output_type": "execute_result"
    }
   ],
   "source": [
    "6+3"
   ]
  },
  {
   "cell_type": "code",
   "execution_count": null,
   "metadata": {
    "colab": {
     "base_uri": "https://localhost:8080/"
    },
    "executionInfo": {
     "elapsed": 393,
     "status": "ok",
     "timestamp": 1650447012914,
     "user": {
      "displayName": "Chethan KB",
      "userId": "00183883714094269114"
     },
     "user_tz": -330
    },
    "id": "XaPnA5HoBXiA",
    "outputId": "39e7e72d-e770-454e-fafd-6d407f595fe7"
   },
   "outputs": [
    {
     "data": {
      "text/plain": [
       "-3.2"
      ]
     },
     "execution_count": 3,
     "metadata": {},
     "output_type": "execute_result"
    }
   ],
   "source": [
    "-16/5"
   ]
  },
  {
   "cell_type": "code",
   "execution_count": null,
   "metadata": {
    "colab": {
     "base_uri": "https://localhost:8080/"
    },
    "executionInfo": {
     "elapsed": 371,
     "status": "ok",
     "timestamp": 1650447030359,
     "user": {
      "displayName": "Chethan KB",
      "userId": "00183883714094269114"
     },
     "user_tz": -330
    },
    "id": "v1uze1etBXlK",
    "outputId": "e48a669b-ace2-4b73-b027-b7ca741604ad"
   },
   "outputs": [
    {
     "data": {
      "text/plain": [
       "-4"
      ]
     },
     "execution_count": 4,
     "metadata": {},
     "output_type": "execute_result"
    }
   ],
   "source": [
    "-16//5"
   ]
  },
  {
   "cell_type": "code",
   "execution_count": null,
   "metadata": {
    "colab": {
     "base_uri": "https://localhost:8080/"
    },
    "executionInfo": {
     "elapsed": 319,
     "status": "ok",
     "timestamp": 1650447054642,
     "user": {
      "displayName": "Chethan KB",
      "userId": "00183883714094269114"
     },
     "user_tz": -330
    },
    "id": "_i1IBvSOBXog",
    "outputId": "bdd312f7-494c-416f-ec62-16ecf963f0af"
   },
   "outputs": [
    {
     "data": {
      "text/plain": [
       "3"
      ]
     },
     "execution_count": 5,
     "metadata": {},
     "output_type": "execute_result"
    }
   ],
   "source": [
    "16//5"
   ]
  },
  {
   "cell_type": "code",
   "execution_count": null,
   "metadata": {
    "colab": {
     "base_uri": "https://localhost:8080/"
    },
    "executionInfo": {
     "elapsed": 387,
     "status": "ok",
     "timestamp": 1650447770099,
     "user": {
      "displayName": "Chethan KB",
      "userId": "00183883714094269114"
     },
     "user_tz": -330
    },
    "id": "YaQrk3EhBXrN",
    "outputId": "f0ded3af-8d79-4f2f-8f73-b83718839114"
   },
   "outputs": [
    {
     "data": {
      "text/plain": [
       "2"
      ]
     },
     "execution_count": 8,
     "metadata": {},
     "output_type": "execute_result"
    }
   ],
   "source": [
    "-8 % 5"
   ]
  },
  {
   "cell_type": "code",
   "execution_count": null,
   "metadata": {
    "colab": {
     "base_uri": "https://localhost:8080/"
    },
    "executionInfo": {
     "elapsed": 832,
     "status": "ok",
     "timestamp": 1650447910962,
     "user": {
      "displayName": "Chethan KB",
      "userId": "00183883714094269114"
     },
     "user_tz": -330
    },
    "id": "J5bQBGg6XGiW",
    "outputId": "69340873-bb0c-4f90-bb7b-eeb12224b68e"
   },
   "outputs": [
    {
     "data": {
      "text/plain": [
       "3"
      ]
     },
     "execution_count": 9,
     "metadata": {},
     "output_type": "execute_result"
    }
   ],
   "source": [
    "8 % 5"
   ]
  },
  {
   "cell_type": "code",
   "execution_count": null,
   "metadata": {
    "id": "zBMqN_ViX1qa"
   },
   "outputs": [],
   "source": [
    "# Which of the following is a valid variable?\n",
    "# a. X = 4\n",
    "# b. 1X = 10\n",
    "# c. else = 10\n",
    "# d. hel@@ = 55\n",
    "\n",
    "# Ans : a"
   ]
  },
  {
   "cell_type": "code",
   "execution_count": null,
   "metadata": {
    "colab": {
     "base_uri": "https://localhost:8080/"
    },
    "executionInfo": {
     "elapsed": 340,
     "status": "ok",
     "timestamp": 1650450610584,
     "user": {
      "displayName": "Chethan KB",
      "userId": "00183883714094269114"
     },
     "user_tz": -330
    },
    "id": "sfOz3VqwgmXY",
    "outputId": "4c9a54d2-442c-4c5f-a123-610d529bdece"
   },
   "outputs": [
    {
     "name": "stdout",
     "output_type": "stream",
     "text": [
      "ChethanChethanChethanChethanChethanChethanChethanChethanChethan@Vishwas!"
     ]
    }
   ],
   "source": [
    "print(\"Chethan\" *(3 * 3) , \"Vishwas\",sep=\"@\",end=\"!\")"
   ]
  },
  {
   "cell_type": "code",
   "execution_count": null,
   "metadata": {
    "colab": {
     "base_uri": "https://localhost:8080/"
    },
    "executionInfo": {
     "elapsed": 406,
     "status": "ok",
     "timestamp": 1650454172915,
     "user": {
      "displayName": "Chethan KB",
      "userId": "00183883714094269114"
     },
     "user_tz": -330
    },
    "id": "J3Dy0Oz_ozgM",
    "outputId": "4b451777-23e2-44bd-bf30-0a2e37ac19f6"
   },
   "outputs": [
    {
     "name": "stdout",
     "output_type": "stream",
     "text": [
      "Scaler\\/Is\\/Awesome\\/"
     ]
    }
   ],
   "source": [
    "print(\"Scaler\", end=\"\\/\")\n",
    "print(\"Is\", end=\"\\/\")\n",
    "print(\"Awesome\", end=\"\\/\")"
   ]
  },
  {
   "cell_type": "code",
   "execution_count": null,
   "metadata": {
    "id": "H44WXsX0rlD3"
   },
   "outputs": [],
   "source": [
    "def is_Prime(num):\n",
    "  if num < 3:\n",
    "    return True\n",
    "  for i in range(2,num):\n",
    "    if num % i == 0:\n",
    "      return False\n",
    "  return True"
   ]
  },
  {
   "cell_type": "code",
   "execution_count": null,
   "metadata": {
    "colab": {
     "base_uri": "https://localhost:8080/"
    },
    "executionInfo": {
     "elapsed": 390,
     "status": "ok",
     "timestamp": 1651215852487,
     "user": {
      "displayName": "Chethan KB",
      "userId": "00183883714094269114"
     },
     "user_tz": -330
    },
    "id": "UmsFqmQosQ86",
    "outputId": "99191ee9-2fb1-45ad-c76e-4be04816ffcb"
   },
   "outputs": [
    {
     "data": {
      "text/plain": [
       "False"
      ]
     },
     "execution_count": 28,
     "metadata": {},
     "output_type": "execute_result"
    }
   ],
   "source": [
    "is_Prime(66)"
   ]
  },
  {
   "cell_type": "markdown",
   "metadata": {
    "id": "5P_SevHstQBw"
   },
   "source": [
    "# Break: \n",
    " We can use break statement inside loops to break loop execution based on some condition."
   ]
  },
  {
   "cell_type": "code",
   "execution_count": null,
   "metadata": {
    "colab": {
     "base_uri": "https://localhost:8080/"
    },
    "executionInfo": {
     "elapsed": 628,
     "status": "ok",
     "timestamp": 1650537526863,
     "user": {
      "displayName": "Chethan KB",
      "userId": "00183883714094269114"
     },
     "user_tz": -330
    },
    "id": "fNLxETVBsbQB",
    "outputId": "eeca5727-dd92-466f-c7b6-22b1f7486d0c"
   },
   "outputs": [
    {
     "name": "stdout",
     "output_type": "stream",
     "text": [
      "1\n",
      "2\n"
     ]
    }
   ],
   "source": [
    "i = 1\n",
    "while True:\n",
    "  if i % 3 == 0:\n",
    "    break\n",
    "  else:\n",
    "    print(i)\n",
    "  \n",
    "  i+=1"
   ]
  },
  {
   "cell_type": "code",
   "execution_count": null,
   "metadata": {
    "colab": {
     "base_uri": "https://localhost:8080/"
    },
    "executionInfo": {
     "elapsed": 431,
     "status": "ok",
     "timestamp": 1650537826819,
     "user": {
      "displayName": "Chethan KB",
      "userId": "00183883714094269114"
     },
     "user_tz": -330
    },
    "id": "Mstaj4CYuGV-",
    "outputId": "db15bf0f-d23e-4edf-ed8e-365f2359bf9d"
   },
   "outputs": [
    {
     "name": "stdout",
     "output_type": "stream",
     "text": [
      "*\n",
      "*\n",
      "*\n"
     ]
    }
   ],
   "source": [
    "i = 7\n",
    "while i > 0:\n",
    "  i -= 3\n",
    "  print(\"*\")\n",
    "\n",
    "  if i < 2:\n",
    "    break\n",
    "  else:\n",
    "    print(\"*\")"
   ]
  },
  {
   "cell_type": "markdown",
   "metadata": {
    "id": "ulsR8h-Mtftn"
   },
   "source": [
    "## **Continue**: \n",
    "We can use continue statement to skip current iteration and continue next iteration."
   ]
  },
  {
   "cell_type": "code",
   "execution_count": null,
   "metadata": {
    "colab": {
     "base_uri": "https://localhost:8080/"
    },
    "executionInfo": {
     "elapsed": 462,
     "status": "ok",
     "timestamp": 1650537810183,
     "user": {
      "displayName": "Chethan KB",
      "userId": "00183883714094269114"
     },
     "user_tz": -330
    },
    "id": "SdHP3F1KtLa1",
    "outputId": "c094df0f-96fd-42db-928f-5d7736ab8bb4"
   },
   "outputs": [
    {
     "name": "stdout",
     "output_type": "stream",
     "text": [
      "*\n",
      "*\n",
      "*\n",
      "*\n"
     ]
    }
   ],
   "source": [
    "i = 7\n",
    "while i > 0:\n",
    "  i -= 3\n",
    "  print(\"*\")\n",
    "\n",
    "  if i < 2:\n",
    "    continue\n",
    "  else:\n",
    "    print(\"*\")"
   ]
  },
  {
   "cell_type": "code",
   "execution_count": null,
   "metadata": {
    "colab": {
     "base_uri": "https://localhost:8080/"
    },
    "executionInfo": {
     "elapsed": 370,
     "status": "ok",
     "timestamp": 1651214102446,
     "user": {
      "displayName": "Chethan KB",
      "userId": "00183883714094269114"
     },
     "user_tz": -330
    },
    "id": "8tAvdyW2A2tf",
    "outputId": "a1409b27-a461-4b9d-d300-3a387fb7aeb5"
   },
   "outputs": [
    {
     "name": "stdout",
     "output_type": "stream",
     "text": [
      "['False', 'None', 'True', 'and', 'as', 'assert', 'async', 'await', 'break', 'class', 'continue', 'def', 'del', 'elif', 'else', 'except', 'finally', 'for', 'from', 'global', 'if', 'import', 'in', 'is', 'lambda', 'nonlocal', 'not', 'or', 'pass', 'raise', 'return', 'try', 'while', 'with', 'yield']\n"
     ]
    }
   ],
   "source": [
    "import keyword\n",
    "print(keyword.kwlist)"
   ]
  },
  {
   "cell_type": "code",
   "execution_count": null,
   "metadata": {
    "colab": {
     "base_uri": "https://localhost:8080/"
    },
    "executionInfo": {
     "elapsed": 390,
     "status": "ok",
     "timestamp": 1651214558365,
     "user": {
      "displayName": "Chethan KB",
      "userId": "00183883714094269114"
     },
     "user_tz": -330
    },
    "id": "DogPFKsvCMuI",
    "outputId": "d9081f29-6eac-4921-cff0-e6a7c696bec4"
   },
   "outputs": [
    {
     "data": {
      "text/plain": [
       "8.0"
      ]
     },
     "execution_count": 6,
     "metadata": {},
     "output_type": "execute_result"
    }
   ],
   "source": [
    "\n",
    "## Double ** means power to the value , here it is square root\n",
    "64 ** 0.5"
   ]
  },
  {
   "cell_type": "code",
   "execution_count": null,
   "metadata": {
    "colab": {
     "base_uri": "https://localhost:8080/"
    },
    "executionInfo": {
     "elapsed": 581,
     "status": "ok",
     "timestamp": 1651214629043,
     "user": {
      "displayName": "Chethan KB",
      "userId": "00183883714094269114"
     },
     "user_tz": -330
    },
    "id": "E0BSAdV6DqrI",
    "outputId": "61e8e706-aff6-40d6-afd2-dd3787ebda94"
   },
   "outputs": [
    {
     "name": "stdout",
     "output_type": "stream",
     "text": [
      "11260032\n",
      "11256320\n",
      "9\n"
     ]
    }
   ],
   "source": [
    "a = 125\n",
    "print(id(a))\n",
    "b = 13\n",
    "a //= b\n",
    "print(id(a))\n",
    "print(a)"
   ]
  },
  {
   "cell_type": "code",
   "execution_count": null,
   "metadata": {
    "colab": {
     "base_uri": "https://localhost:8080/"
    },
    "executionInfo": {
     "elapsed": 370,
     "status": "ok",
     "timestamp": 1651215010899,
     "user": {
      "displayName": "Chethan KB",
      "userId": "00183883714094269114"
     },
     "user_tz": -330
    },
    "id": "lVmXr75lFCD_",
    "outputId": "7884f6e3-7015-4f80-a8eb-1415148737b6"
   },
   "outputs": [
    {
     "name": "stdout",
     "output_type": "stream",
     "text": [
      "1,3,5,7,9,"
     ]
    }
   ],
   "source": [
    "for alpha in range(1, 11, 2):\n",
    " print(alpha, end=\",\")\n"
   ]
  },
  {
   "cell_type": "code",
   "execution_count": null,
   "metadata": {
    "colab": {
     "base_uri": "https://localhost:8080/"
    },
    "executionInfo": {
     "elapsed": 575,
     "status": "ok",
     "timestamp": 1651215082172,
     "user": {
      "displayName": "Chethan KB",
      "userId": "00183883714094269114"
     },
     "user_tz": -330
    },
    "id": "XPocWf7dFjLM",
    "outputId": "ee4c239c-8f61-495c-9a13-eddd954993f0"
   },
   "outputs": [
    {
     "name": "stdout",
     "output_type": "stream",
     "text": [
      "20,17,14,11,8,5,2,"
     ]
    }
   ],
   "source": [
    "for i in range(20,0,-3):\n",
    "  print(i, end = \",\")"
   ]
  },
  {
   "cell_type": "code",
   "execution_count": null,
   "metadata": {
    "colab": {
     "base_uri": "https://localhost:8080/"
    },
    "executionInfo": {
     "elapsed": 12501,
     "status": "ok",
     "timestamp": 1651215186312,
     "user": {
      "displayName": "Chethan KB",
      "userId": "00183883714094269114"
     },
     "user_tz": -330
    },
    "id": "esXx0V1UFsix",
    "outputId": "b76f4d4e-2248-488f-926f-c64a11eb4d42"
   },
   "outputs": [
    {
     "name": "stdout",
     "output_type": "stream",
     "text": [
      "Enter command: ls\n",
      "ls\n",
      "Enter command: pwd\n",
      "pwd\n",
      "Enter command: mkdir\n",
      "mkdir\n",
      "Enter command: quit\n"
     ]
    }
   ],
   "source": [
    "cmd = input(\"Enter command: \")\n",
    "\n",
    "while cmd != 'quit':\n",
    " print(cmd)\n",
    " cmd = input(\"Enter command: \")"
   ]
  },
  {
   "cell_type": "code",
   "execution_count": null,
   "metadata": {
    "colab": {
     "base_uri": "https://localhost:8080/"
    },
    "executionInfo": {
     "elapsed": 435,
     "status": "ok",
     "timestamp": 1651215486364,
     "user": {
      "displayName": "Chethan KB",
      "userId": "00183883714094269114"
     },
     "user_tz": -330
    },
    "id": "7aBLif23GFvB",
    "outputId": "7e35660b-22e2-4fbd-b63e-fe377645e66b"
   },
   "outputs": [
    {
     "name": "stdout",
     "output_type": "stream",
     "text": [
      "1 2 "
     ]
    }
   ],
   "source": [
    "i = 1\n",
    "while True:\n",
    "  if i % 3 == 0:\n",
    "    break\n",
    "  print(i, end= \" \")\n",
    "  i += 1\n"
   ]
  },
  {
   "cell_type": "code",
   "execution_count": null,
   "metadata": {
    "colab": {
     "base_uri": "https://localhost:8080/"
    },
    "executionInfo": {
     "elapsed": 485,
     "status": "ok",
     "timestamp": 1651215621046,
     "user": {
      "displayName": "Chethan KB",
      "userId": "00183883714094269114"
     },
     "user_tz": -330
    },
    "id": "YtKv5NukHbT2",
    "outputId": "d08d986b-4be1-4ca0-dabf-a6642f02f223"
   },
   "outputs": [
    {
     "name": "stdout",
     "output_type": "stream",
     "text": [
      "*\n",
      "*\n",
      "*\n",
      "*\n"
     ]
    }
   ],
   "source": [
    "i=7\n",
    "while i>0:\n",
    "  i-=3\n",
    "  print('*')\n",
    "  if i<=2:\n",
    "   continue\n",
    "  else:\n",
    "   print('*')\n"
   ]
  },
  {
   "cell_type": "code",
   "execution_count": null,
   "metadata": {
    "id": "HUjXtSjhItbQ"
   },
   "outputs": [],
   "source": [
    "def user_category(weight_kgs, height_m):\n",
    "  bmi = weight_kgs/(height_m**2)\n",
    "  print(bmi)\n",
    "  \n",
    "  if bmi <= 18.5:\n",
    "   return \"Underweight\"\n",
    "  elif bmi>18.5 and bmi<=25:\n",
    "    return \"Normal\"\n",
    "  else:\n",
    "    return \"Overweight\""
   ]
  },
  {
   "cell_type": "code",
   "execution_count": null,
   "metadata": {
    "colab": {
     "base_uri": "https://localhost:8080/",
     "height": 53
    },
    "executionInfo": {
     "elapsed": 398,
     "status": "ok",
     "timestamp": 1651216093102,
     "user": {
      "displayName": "Chethan KB",
      "userId": "00183883714094269114"
     },
     "user_tz": -330
    },
    "id": "fT-z_S1JJIeP",
    "outputId": "41c5f27c-422a-40bb-8c67-e46c08249c37"
   },
   "outputs": [
    {
     "name": "stdout",
     "output_type": "stream",
     "text": [
      "24.816326530612244\n"
     ]
    },
    {
     "data": {
      "application/vnd.google.colaboratory.intrinsic+json": {
       "type": "string"
      },
      "text/plain": [
       "'Normal'"
      ]
     },
     "execution_count": 33,
     "metadata": {},
     "output_type": "execute_result"
    }
   ],
   "source": [
    "user_category(76,1.75)"
   ]
  },
  {
   "cell_type": "code",
   "execution_count": 44,
   "metadata": {
    "colab": {
     "base_uri": "https://localhost:8080/"
    },
    "executionInfo": {
     "elapsed": 408,
     "status": "ok",
     "timestamp": 1651216584942,
     "user": {
      "displayName": "Chethan KB",
      "userId": "00183883714094269114"
     },
     "user_tz": -330
    },
    "id": "j-pe8LwWJqYW",
    "outputId": "b12aec45-16d8-4568-e79e-6482ce78a3e6"
   },
   "outputs": [
    {
     "name": "stdout",
     "output_type": "stream",
     "text": [
      "15\n"
     ]
    }
   ],
   "source": [
    "def operate(a):\n",
    "  a+=b\n",
    "\n",
    "  return a\n",
    "\n",
    "a = 10\n",
    "print(operate(a))"
   ]
  },
  {
   "cell_type": "code",
   "execution_count": 57,
   "metadata": {
    "colab": {
     "base_uri": "https://localhost:8080/",
     "height": 235
    },
    "executionInfo": {
     "elapsed": 506,
     "status": "error",
     "timestamp": 1651216827549,
     "user": {
      "displayName": "Chethan KB",
      "userId": "00183883714094269114"
     },
     "user_tz": -330
    },
    "id": "m-bzDfQxLhrh",
    "outputId": "6f8371e3-f748-4318-d2c3-955dda6b11d1"
   },
   "outputs": [
    {
     "name": "stdout",
     "output_type": "stream",
     "text": [
      "11\n"
     ]
    },
    {
     "ename": "NameError",
     "evalue": "ignored",
     "output_type": "error",
     "traceback": [
      "\u001b[0;31m---------------------------------------------------------------------------\u001b[0m",
      "\u001b[0;31mNameError\u001b[0m                                 Traceback (most recent call last)",
      "\u001b[0;32m<ipython-input-57-92b6cfe5c670>\u001b[0m in \u001b[0;36m<module>\u001b[0;34m()\u001b[0m\n\u001b[1;32m      7\u001b[0m \u001b[0ma\u001b[0m \u001b[0;34m=\u001b[0m \u001b[0;36m10\u001b[0m\u001b[0;34m\u001b[0m\u001b[0;34m\u001b[0m\u001b[0m\n\u001b[1;32m      8\u001b[0m \u001b[0mprint\u001b[0m\u001b[0;34m(\u001b[0m\u001b[0moperate\u001b[0m\u001b[0;34m(\u001b[0m\u001b[0ma\u001b[0m\u001b[0;34m)\u001b[0m\u001b[0;34m)\u001b[0m\u001b[0;34m\u001b[0m\u001b[0;34m\u001b[0m\u001b[0m\n\u001b[0;32m----> 9\u001b[0;31m \u001b[0mprint\u001b[0m\u001b[0;34m(\u001b[0m\u001b[0mid\u001b[0m\u001b[0;34m(\u001b[0m\u001b[0mb\u001b[0m\u001b[0;34m)\u001b[0m\u001b[0;34m)\u001b[0m\u001b[0;34m\u001b[0m\u001b[0;34m\u001b[0m\u001b[0m\n\u001b[0m\u001b[1;32m     10\u001b[0m \u001b[0mprint\u001b[0m\u001b[0;34m(\u001b[0m\u001b[0mb\u001b[0m\u001b[0;34m)\u001b[0m\u001b[0;34m\u001b[0m\u001b[0;34m\u001b[0m\u001b[0m\n",
      "\u001b[0;31mNameError\u001b[0m: name 'b' is not defined"
     ]
    }
   ],
   "source": [
    "def operate(a):\n",
    "  b = 1\n",
    "  a+=b\n",
    "\n",
    "  return a\n",
    "\n",
    "a = 10\n",
    "print(operate(a))\n",
    "print(id(b))\n",
    "print(b)\n"
   ]
  },
  {
   "cell_type": "markdown",
   "metadata": {
    "id": "566DV4FJN4rG"
   },
   "source": [
    "List"
   ]
  },
  {
   "cell_type": "code",
   "execution_count": 58,
   "metadata": {
    "colab": {
     "base_uri": "https://localhost:8080/"
    },
    "executionInfo": {
     "elapsed": 1371,
     "status": "ok",
     "timestamp": 1651217941834,
     "user": {
      "displayName": "Chethan KB",
      "userId": "00183883714094269114"
     },
     "user_tz": -330
    },
    "id": "Dt7ibgnAN8Ac",
    "outputId": "cda9c850-8d09-4783-87df-53626f948400"
   },
   "outputs": [
    {
     "name": "stdout",
     "output_type": "stream",
     "text": [
      "[90, 100, 30, 56, 78]\n"
     ]
    }
   ],
   "source": [
    "marks = [90, 100, 30, 56, 78]\n",
    "print(marks)\n",
    "\n"
   ]
  },
  {
   "cell_type": "code",
   "execution_count": 60,
   "metadata": {
    "colab": {
     "base_uri": "https://localhost:8080/"
    },
    "executionInfo": {
     "elapsed": 380,
     "status": "ok",
     "timestamp": 1651217978937,
     "user": {
      "displayName": "Chethan KB",
      "userId": "00183883714094269114"
     },
     "user_tz": -330
    },
    "id": "DyxXH0OTQoMl",
    "outputId": "c0519881-3592-4a23-be6a-29c024dd40ed"
   },
   "outputs": [
    {
     "name": "stdout",
     "output_type": "stream",
     "text": [
      "<class 'list'>\n"
     ]
    }
   ],
   "source": [
    "print(type(marks))"
   ]
  },
  {
   "cell_type": "code",
   "execution_count": 64,
   "metadata": {
    "colab": {
     "base_uri": "https://localhost:8080/"
    },
    "executionInfo": {
     "elapsed": 366,
     "status": "ok",
     "timestamp": 1651218022762,
     "user": {
      "displayName": "Chethan KB",
      "userId": "00183883714094269114"
     },
     "user_tz": -330
    },
    "id": "zP2g3wOdQpu4",
    "outputId": "7c53fbcb-d16c-4cee-b3f3-34dbeb416da9"
   },
   "outputs": [
    {
     "data": {
      "text/plain": [
       "[90, 100, 30, 56]"
      ]
     },
     "execution_count": 64,
     "metadata": {},
     "output_type": "execute_result"
    }
   ],
   "source": [
    "marks[:-1] # Exclude last 1 element"
   ]
  },
  {
   "cell_type": "code",
   "execution_count": 65,
   "metadata": {
    "colab": {
     "base_uri": "https://localhost:8080/"
    },
    "executionInfo": {
     "elapsed": 362,
     "status": "ok",
     "timestamp": 1651218044055,
     "user": {
      "displayName": "Chethan KB",
      "userId": "00183883714094269114"
     },
     "user_tz": -330
    },
    "id": "oo8-ojy8Q5WS",
    "outputId": "9ed86749-945f-4978-814b-baff17eb630d"
   },
   "outputs": [
    {
     "data": {
      "text/plain": [
       "[90, 100, 30]"
      ]
     },
     "execution_count": 65,
     "metadata": {},
     "output_type": "execute_result"
    }
   ],
   "source": [
    "marks[:-2]# Exclude last 2 element"
   ]
  },
  {
   "cell_type": "code",
   "execution_count": 67,
   "metadata": {
    "executionInfo": {
     "elapsed": 358,
     "status": "ok",
     "timestamp": 1651218099398,
     "user": {
      "displayName": "Chethan KB",
      "userId": "00183883714094269114"
     },
     "user_tz": -330
    },
    "id": "8PNAs_0TRCfj"
   },
   "outputs": [],
   "source": [
    "marks.append([12,34,6])"
   ]
  },
  {
   "cell_type": "code",
   "execution_count": 68,
   "metadata": {
    "colab": {
     "base_uri": "https://localhost:8080/"
    },
    "executionInfo": {
     "elapsed": 6,
     "status": "ok",
     "timestamp": 1651218109404,
     "user": {
      "displayName": "Chethan KB",
      "userId": "00183883714094269114"
     },
     "user_tz": -330
    },
    "id": "UNH8gFnzRMBF",
    "outputId": "d8008499-7561-45bb-ae9e-804890dd42e6"
   },
   "outputs": [
    {
     "data": {
      "text/plain": [
       "[90, 100, 30, 56, 78, [12, 34, 6]]"
      ]
     },
     "execution_count": 68,
     "metadata": {},
     "output_type": "execute_result"
    }
   ],
   "source": [
    "marks"
   ]
  },
  {
   "cell_type": "code",
   "execution_count": 71,
   "metadata": {
    "executionInfo": {
     "elapsed": 394,
     "status": "ok",
     "timestamp": 1651218162863,
     "user": {
      "displayName": "Chethan KB",
      "userId": "00183883714094269114"
     },
     "user_tz": -330
    },
    "id": "-uHnvo_VRO18"
   },
   "outputs": [],
   "source": [
    "marks.extend([1,5,9])"
   ]
  },
  {
   "cell_type": "code",
   "execution_count": 72,
   "metadata": {
    "colab": {
     "base_uri": "https://localhost:8080/"
    },
    "executionInfo": {
     "elapsed": 357,
     "status": "ok",
     "timestamp": 1651218166808,
     "user": {
      "displayName": "Chethan KB",
      "userId": "00183883714094269114"
     },
     "user_tz": -330
    },
    "id": "ia1DJEUXRR70",
    "outputId": "eae9bce8-4aec-4a5f-8ea6-182757c675af"
   },
   "outputs": [
    {
     "data": {
      "text/plain": [
       "[90, 100, 30, 56, 78, [12, 34, 6], 1, 5, 9]"
      ]
     },
     "execution_count": 72,
     "metadata": {},
     "output_type": "execute_result"
    }
   ],
   "source": [
    "marks"
   ]
  }
 ],
 "metadata": {
  "colab": {
   "authorship_tag": "ABX9TyNoXlJKN0PztGtm+sM72hqo",
   "collapsed_sections": [],
   "name": "Python1_Refresher.ipynb",
   "provenance": []
  },
  "kernelspec": {
   "display_name": "Python 3 (ipykernel)",
   "language": "python",
   "name": "python3"
  },
  "language_info": {
   "codemirror_mode": {
    "name": "ipython",
    "version": 3
   },
   "file_extension": ".py",
   "mimetype": "text/x-python",
   "name": "python",
   "nbconvert_exporter": "python",
   "pygments_lexer": "ipython3",
   "version": "3.10.4"
  }
 },
 "nbformat": 4,
 "nbformat_minor": 1
}
